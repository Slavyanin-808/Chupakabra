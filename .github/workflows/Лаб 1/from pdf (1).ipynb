{
  "cells": [
    {
      "metadata": {
        "trusted": true
      },
      "cell_type": "code",
      "source": "!pip install pdfminer.six",
      "execution_count": 1,
      "outputs": [
        {
          "output_type": "stream",
          "text": "Collecting pdfminer.six\n\u001b[?25l  Downloading https://files.pythonhosted.org/packages/60/0a/5806bd37362bceebb88cff526177c308276b3e0696611564ed01d67b8c6b/pdfminer.six-20200124-py3-none-any.whl (5.6MB)\n\u001b[K     |████████████████████████████████| 5.6MB 27kB/s  eta 0:00:01     |██████▏                         | 1.1MB 1.5MB/s eta 0:00:03     |███████████████▏                | 2.7MB 1.5MB/s eta 0:00:02     |██████████████████████████████▌ | 5.3MB 1.5MB/s eta 0:00:01\n\u001b[?25hRequirement already satisfied: chardet; python_version > \"3.0\" in /home/nbuser/anaconda3_501/lib/python3.6/site-packages (from pdfminer.six) (3.0.4)\nCollecting pycryptodome\n\u001b[?25l  Downloading https://files.pythonhosted.org/packages/54/e4/72132c31a4cedc58848615502c06cedcce1e1ff703b4c506a7171f005a75/pycryptodome-3.9.6-cp36-cp36m-manylinux1_x86_64.whl (13.7MB)\n\u001b[K     |████████████████████████████████| 13.7MB 13kB/s  eta 0:00:01     |▋                               | 245kB 27.2MB/s eta 0:00:01\n\u001b[?25hRequirement already satisfied: sortedcontainers in /home/nbuser/anaconda3_501/lib/python3.6/site-packages (from pdfminer.six) (2.0.5)\nInstalling collected packages: pycryptodome, pdfminer.six\nSuccessfully installed pdfminer.six-20200124 pycryptodome-3.9.6\n\u001b[33mWARNING: You are using pip version 19.3.1; however, version 20.0.2 is available.\nYou should consider upgrading via the 'pip install --upgrade pip' command.\u001b[0m\n",
          "name": "stdout"
        }
      ]
    },
    {
      "metadata": {
        "trusted": true
      },
      "cell_type": "code",
      "source": "import io\n \nfrom pdfminer.converter import TextConverter\nfrom pdfminer.pdfinterp import PDFPageInterpreter\nfrom pdfminer.pdfinterp import PDFResourceManager\nfrom pdfminer.pdfpage import PDFPage\n\nimport os\nimport xml.etree.ElementTree as xml\n \n \n",
      "execution_count": 2,
      "outputs": []
    },
    {
      "metadata": {
        "trusted": true
      },
      "cell_type": "code",
      "source": "def extract_text_by_page(pdf_path):\n    with open(pdf_path, 'rb') as fh:\n        for page in PDFPage.get_pages(fh, \n                                      caching=True,\n                                      check_extractable=True):\n            resource_manager = PDFResourceManager()\n            fake_file_handle = io.StringIO()\n            converter = TextConverter(resource_manager, fake_file_handle)\n            page_interpreter = PDFPageInterpreter(resource_manager, converter)\n            page_interpreter.process_page(page)\n \n            text = fake_file_handle.getvalue()\n            yield text\n \n            # close open handles\n            converter.close()\n            fake_file_handle.close()\n",
      "execution_count": 3,
      "outputs": []
    },
    {
      "metadata": {
        "trusted": true
      },
      "cell_type": "code",
      "source": "def extract_text(pdf_path):\n    for page in extract_text_by_page(pdf_path):\n        print(page)\n        print()\n",
      "execution_count": 4,
      "outputs": []
    },
    {
      "metadata": {
        "trusted": true
      },
      "cell_type": "code",
      "source": "def export_as_xml(pdf_path, xml_path):\n    filename = os.path.splitext(os.path.basename(pdf_path))[0]\n    root = xml.Element('{filename}'.format(filename=filename))\n    pages = xml.Element('Pages')\n    root.append(pages)\n \n    counter = 1\n    for page in extract_text_by_page(pdf_path):\n        text = xml.SubElement(pages, 'Page_{}'.format(counter))\n        text.text = page\n        text.tail = '\\n'\n        counter += 1\n \n    tree = xml.ElementTree(root)\n  \n \n    tree.write(open(xml_path, 'w'), encoding='unicode', xml_declaration=True, method=\"xml\")\n   ",
      "execution_count": 5,
      "outputs": []
    },
    {
      "metadata": {
        "trusted": true
      },
      "cell_type": "code",
      "source": "print(extract_text('рассказ.pdf'))\npdf_path = 'рассказ.pdf'\nxml_path = 'from_pdf.xml'\nexport_as_xml(pdf_path, xml_path)\n    ",
      "execution_count": 6,
      "outputs": [
        {
          "output_type": "stream",
          "text": "\f\n\nАнтон  ЧеховЛошадиная фамилия«Public Domain»1885\f\n\nЧехов А. П.Лошадиная фамилия  /  А. П. Чехов —  «Public Domain»,  1885«У отставного генерал-майора Булдеева разболелись зубы. Он полоскал ротводкой, коньяком, прикладывал к больному зубу табачную копоть, опий,скипидар, керосин, мазал щеку йодом, в ушах у него была вата, смоченная вспирту, но все это или не помогало, или вызывало тошноту…»© Чехов А. П., 1885© Public Domain, 1885\f\n\nА.  П.  Чехов.  «Лошадиная фамилия»4Антон ЧеховЛошадиная фамилияУ отставного генерал-майора Булдеева разболелись зубы. Он полоскал рот водкой, конья-ком, прикладывал к больному зубу табачную копоть, опий, скипидар, керосин, мазал щекуйодом, в ушах у него была вата, смоченная в спирту, но все это или не помогало, или вызы-вало тошноту. Приезжал доктор. Он поковырял в зубе, прописал хину, но и это не помогло. Напредложение вырвать больной зуб генерал ответил отказом. Все домашние – жена, дети, при-слуга, даже поваренок Петька предлагали каждый свое средство. Между прочим, и приказчикБулдеева Иван Евсеич пришел к нему и посоветовал полечиться заговором.– Тут, в нашем уезде, ваше превосходительство, – сказал он, – лет десять назад слу-жил акцизный Яков Васильич. Заговаривал зубы – первый сорт. Бывало, отвернется к окошку,пошепчет, поплюет – и как рукой! Сила ему такая дадена…– Где же он теперь?– А после того, как его из акцизных увольнили, в Саратове у тещи живет. Теперь толькозубами и кормится. Ежели у которого человека заболит зуб, то и идут к нему, помогает…Тамошних саратовских на дому у себя пользует, а ежели которые из других городов, то потелеграфу. Пошлите ему, ваше превосходительство, депешу, что так, мол, вот и так… у рабабожьего Алексия зубы болят, прошу выпользовать. А деньги за лечение почтой пошлете.– Ерунда! Шарлатанство!– А вы попытайте, ваше превосходительство. До водки очень охотник, живет не с женой,а с немкой, ругатель, но, можно сказать, чудодейственный господин!\f\n\nА.  П.  Чехов.  «Лошадиная фамилия»5 Конец ознакомительного фрагмента. Текст предоставлен ООО «ЛитРес».Прочитайте эту книгу целиком, купив полную легальную версию на ЛитРес.Безопасно оплатить книгу можно банковской картой Visa, MasterCard, Maestro, со счетамобильного телефона, с платежного терминала, в салоне МТС или Связной, через PayPal,WebMoney, Яндекс.Деньги, QIWI Кошелек, бонусными картами или другим удобным Вам спо-собом.\f\n\nNone\n",
          "name": "stdout"
        }
      ]
    }
  ],
  "metadata": {
    "kernelspec": {
      "name": "python36",
      "display_name": "Python 3.6",
      "language": "python"
    },
    "language_info": {
      "mimetype": "text/x-python",
      "nbconvert_exporter": "python",
      "name": "python",
      "pygments_lexer": "ipython3",
      "version": "3.6.6",
      "file_extension": ".py",
      "codemirror_mode": {
        "version": 3,
        "name": "ipython"
      }
    }
  },
  "nbformat": 4,
  "nbformat_minor": 2
}