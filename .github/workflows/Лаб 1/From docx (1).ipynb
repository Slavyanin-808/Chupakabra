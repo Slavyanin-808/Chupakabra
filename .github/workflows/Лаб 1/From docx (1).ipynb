{
  "cells": [
    {
      "metadata": {
        "trusted": true
      },
      "cell_type": "code",
      "source": "!pip install python-docx",
      "execution_count": 3,
      "outputs": [
        {
          "output_type": "stream",
          "text": "Requirement already satisfied: python-docx in /home/nbuser/anaconda3_501/lib/python3.6/site-packages (0.8.10)\nRequirement already satisfied: lxml>=2.3.2 in /home/nbuser/anaconda3_501/lib/python3.6/site-packages (from python-docx) (4.2.5)\n\u001b[33mWARNING: You are using pip version 19.3.1; however, version 20.0.2 is available.\nYou should consider upgrading via the 'pip install --upgrade pip' command.\u001b[0m\n",
          "name": "stdout"
        }
      ]
    },
    {
      "metadata": {
        "trusted": true
      },
      "cell_type": "code",
      "source": "import os\nimport xml.etree.ElementTree as xml\n#import re\nimport lxml.etree as etree\n",
      "execution_count": 10,
      "outputs": []
    },
    {
      "metadata": {
        "trusted": true
      },
      "cell_type": "code",
      "source": "import docx\n\ndoc = docx.Document('Пример_word.docx')\nprint(doc.paragraphs[0].text)\nprint(doc.paragraphs[1].text)\n",
      "execution_count": 14,
      "outputs": [
        {
          "output_type": "stream",
          "text": "Биологическая оптическая система зрительного анализатора человека – это предельно сложный готовый объект компьютерного моделирования, ведь оптические характеристики которого отличны, находясь в пределах биологической изменчивости. Приходится учитывать индивидуальные характеристики зрительного анализатора в двух областях знаний: эргономика зрительной деятельности и офтальмология как область медицины. Однако обращение к компьютерной моделированию роговицы, хрусталика или глаза индивидуума в целом как готовых систем одинаково актуально в обеих областях. Это связано с внедрением в практику оптической коррекции, интраокулярных линз, ионной полировки роговицы, индивидуальных однофокальных и прогрессивных очковых линз. В настоящее время, насколько явствует из публикаций [1-5], этап схематизации оптической системы глаза индивидуума пока что неизбежен. Его реализация возможно только в условиях применения компьютерных технологий.  \nВ настоящее время большой практический интерес представляет состояние функций зрительного анализатора человека (ЗРАН) в связи с компьютеризацией той группы населения, у которой она началась уже в детском возрасте. Повышенное внимание к этой возрастной группе (18-22 года) объясняется тем, что субъекты продолжают работать в качестве операторов в течение всего срока обучения по направлению «Компьютерная оптика».\n",
          "name": "stdout"
        }
      ]
    },
    {
      "metadata": {
        "trusted": true
      },
      "cell_type": "code",
      "source": "filename = os.path.splitext(os.path.basename(\"Пример_word.txt\"))[0]\nroot = xml.Element('{filename}'.format(filename=filename))\npages = xml.Element('Page')\nroot.append(pages)\nfor paragraph in doc.paragraphs:\n    block = xml.SubElement(pages, \"block\")\n    block.text = paragraph.text\n    block.tail = '\\n'\n    ",
      "execution_count": 12,
      "outputs": []
    },
    {
      "metadata": {
        "trusted": true
      },
      "cell_type": "code",
      "source": "tree = xml.ElementTree(root)\ntree.write(open('from docx.xml', 'w'), encoding='unicode', xml_declaration=True, method=\"xml\")",
      "execution_count": 13,
      "outputs": []
    }
  ],
  "metadata": {
    "kernelspec": {
      "name": "python36",
      "display_name": "Python 3.6",
      "language": "python"
    },
    "language_info": {
      "mimetype": "text/x-python",
      "nbconvert_exporter": "python",
      "name": "python",
      "pygments_lexer": "ipython3",
      "version": "3.6.6",
      "file_extension": ".py",
      "codemirror_mode": {
        "version": 3,
        "name": "ipython"
      }
    }
  },
  "nbformat": 4,
  "nbformat_minor": 2
}