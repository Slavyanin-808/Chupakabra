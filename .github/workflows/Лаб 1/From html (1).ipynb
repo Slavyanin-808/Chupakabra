{
  "cells": [
    {
      "metadata": {
        "trusted": true
      },
      "cell_type": "code",
      "source": "!pip install requests",
      "execution_count": 1,
      "outputs": [
        {
          "output_type": "stream",
          "text": "Requirement already satisfied: requests in /home/nbuser/anaconda3_501/lib/python3.6/site-packages (2.22.0)\nRequirement already satisfied: idna<2.9,>=2.5 in /home/nbuser/anaconda3_501/lib/python3.6/site-packages (from requests) (2.7)\nRequirement already satisfied: urllib3!=1.25.0,!=1.25.1,<1.26,>=1.21.1 in /home/nbuser/anaconda3_501/lib/python3.6/site-packages (from requests) (1.23)\nRequirement already satisfied: certifi>=2017.4.17 in /home/nbuser/anaconda3_501/lib/python3.6/site-packages (from requests) (2018.10.15)\nRequirement already satisfied: chardet<3.1.0,>=3.0.2 in /home/nbuser/anaconda3_501/lib/python3.6/site-packages (from requests) (3.0.4)\n\u001b[33mWARNING: You are using pip version 19.3.1; however, version 20.0.2 is available.\nYou should consider upgrading via the 'pip install --upgrade pip' command.\u001b[0m\n",
          "name": "stdout"
        }
      ]
    },
    {
      "metadata": {
        "trusted": true
      },
      "cell_type": "code",
      "source": "!pip install bs4",
      "execution_count": 2,
      "outputs": [
        {
          "output_type": "stream",
          "text": "Collecting bs4\n  Downloading https://files.pythonhosted.org/packages/10/ed/7e8b97591f6f456174139ec089c769f89a94a1a4025fe967691de971f314/bs4-0.0.1.tar.gz\nRequirement already satisfied: beautifulsoup4 in /home/nbuser/anaconda3_501/lib/python3.6/site-packages (from bs4) (4.6.3)\nBuilding wheels for collected packages: bs4\n  Building wheel for bs4 (setup.py) ... \u001b[?25ldone\n\u001b[?25h  Created wheel for bs4: filename=bs4-0.0.1-cp36-none-any.whl size=2248 sha256=aab6b5dc2ad4ec70e6d17be590ea5e2b7a4dbd420ed2ac3003f7100bcebd8519\n  Stored in directory: /home/nbuser/.cache/pip/wheels/a0/b0/b2/4f80b9456b87abedbc0bf2d52235414c3467d8889be38dd472\nSuccessfully built bs4\nInstalling collected packages: bs4\nSuccessfully installed bs4-0.0.1\n\u001b[33mWARNING: You are using pip version 19.3.1; however, version 20.0.2 is available.\nYou should consider upgrading via the 'pip install --upgrade pip' command.\u001b[0m\n",
          "name": "stdout"
        }
      ]
    },
    {
      "metadata": {
        "trusted": true
      },
      "cell_type": "code",
      "source": "import requests\nfrom bs4 import BeautifulSoup\nimport os\nimport xml.etree.ElementTree as xml\nimport lxml.etree as etree\n\n",
      "execution_count": 3,
      "outputs": []
    },
    {
      "metadata": {
        "trusted": true
      },
      "cell_type": "code",
      "source": "file=\"https://ru.wikipedia.org/wiki/%D0%90%D0%BB%D1%8C%D0%BF%D0%B0%D0%BA%D0%B0\"\nresp=requests.get(file)\nif resp.status_code==200:\n\n    soup = BeautifulSoup(resp.text, 'lxml') \n    root = xml.Element('{filename}'.format(filename=soup.title.text))\n    \n    for tag in soup.find_all(\"p\"):\n        print(\"{0}: {1}\".format(tag.name, tag.text))\n        block = xml.SubElement(root, \"block\")\n        block.text = tag.text\n        block.tail = '\\n'\n",
      "execution_count": 4,
      "outputs": [
        {
          "output_type": "stream",
          "text": "p: Vicugna pacos \n\np: \n\np: Альпака́[1] (лат. Vicugna pacos) — домашнее мозоленогое животное, произошедшее от викуньи (вигони). Разводят в высокогорном поясе Южной Америки (Анды). На сегодняшний день там обитает около трёх миллионов альпака, большая часть из которых населяет Перу. Выращивают альпака для стрижки шерсти, из которой делают тёплые и мягкие одеяла, пледы и одежду, а из меха делают предметы для дома.\n\np: Рост альпака не превышает одного метра, их масса около 70 килограммов и обладают мягким и длинным руном (по бокам его длина достигает 15-20 см.). Они обитают в Андах на высоте 3500-5000 метров, на территории Эквадора, южного Перу, северного Чили и западной Боливии.\n\np: Около 6000 лет назад индейцы Перу одомашнили альпака и стали их разводить. Изображения альпака широко распространены в культуре Мочика.\n\np: В 1553 году даётся их первое описание в книге «Хроника Перу» Сьеса де Леона[2].\n\np: Альпака является частью семейства верблюдовых Южной Америки, включающего в себя также лам, гуанако и викунью.\nПервоначально альпака ошибочно относили к роду лам, однако в 2001 году систематику вида сменили с Lama pacos на Vicugna pacos, выяснив, что предками альпака были викуньи, а не гуанако, прародители всех домашних лам. Трудность точного определения рода заключалась в том, что все четыре представителя семейства верблюжьих, встречающиеся в Южной Америке, могут давать потомство в случае межвидового скрещивания, так что только исследование ДНК смогло дать точный ответ на происхождение альпака. Ламы и альпака при скрещивании дают потомство под названием — уарисо (исп. huarizo), а викуньи и альпака под названием пако-викунья (paco-vicuña), не способных к размножению, но обладающих очень мягким характером и поэтому идеально подходящих на роль домашних питомцев.\n\np: Но они не являются домашними животными в традиционном понимании, это сравнительно одомашненные горные животные: альпака могут бояться прикосновений рук. Они с рождения очень любознательны — даже слишком — и способны сами пораниться. Активно пользуются обонянием. Имеют кроткую мирную натуру поведения; в отличие от их родственников — верблюдов, они не плюются в людей, только друг в друга при соревновании за еду и попадание в человека возможно обычно случайным образом.\n\np: В природе существует две разновидности альпака: Suri (Сури) и Huacaya (Уакайа). У первых шерсть длинная, в виде косичек, у вторых шерсть похожа на мягкий плюш.\n\np: Ценится прежде всего за свою шерсть, которая имеет все свойства овечьей, но по весу намного легче. Шерсть животных делится на несколько видов: королевская альпака — диаметр волокна 19 мкм, бэби альпака — диаметр волокна 22,5 мкм, очень мягкая альпака — диаметр волокна 25,5 мкм, взрослая альпака — 32 мкм[источник не указан 122 дня].\n\np: Шерсть альпака очень стойкая и не имеет жира, поэтому изделия из него долго не загрязняются. Ни одна другая шерсть в мире не сравнится с шерстью альпака, особенно с шерстью детёнышей альпака. Она в семь раз теплее, чем шерсть овцы, практически водонепроницаема и не вызывает аллергии.\n\np: Голова альпака\n\np: Альпака в Московском зоопарке\n\np: Скелет альпака, с черепом альпака и гуанако выше. (Музей остеологии)\n\np: Альпака возле фермы\n\np: Крупным планом лицо альпака\n\np: Сури альпака\n\np: Альпака возле горы в Эквадоре\n\np: (видео) Жевание альпака\n\np: Прядение из шерсти альпака, Сен-Готард, 2018 г.\n\np: Боливийский мужчина и его альпака\n\n",
          "name": "stdout"
        }
      ]
    },
    {
      "metadata": {
        "trusted": true
      },
      "cell_type": "code",
      "source": "tree = xml.ElementTree(root)\ntree.write(open('from html.xml', 'w'), encoding='unicode', xml_declaration=True, method=\"xml\")",
      "execution_count": 5,
      "outputs": []
    }
  ],
  "metadata": {
    "kernelspec": {
      "name": "python36",
      "display_name": "Python 3.6",
      "language": "python"
    },
    "language_info": {
      "mimetype": "text/x-python",
      "nbconvert_exporter": "python",
      "name": "python",
      "pygments_lexer": "ipython3",
      "version": "3.6.6",
      "file_extension": ".py",
      "codemirror_mode": {
        "version": 3,
        "name": "ipython"
      }
    }
  },
  "nbformat": 4,
  "nbformat_minor": 2
}